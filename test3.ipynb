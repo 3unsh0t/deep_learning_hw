{
 "cells": [
  {
   "cell_type": "markdown",
   "source": [
    "\n",
    "##%% md\n",
    " Tensor Initialization\n",
    " \n",
    " > 인용구\n",
    " \n",
    " * 목록\n",
    " + 전부\n",
    " - 동그라미로\n",
    " \n",
    " ---\n",
    " 라인추가\n",
    " \n",
    " <span style=\"color:#F86766D\">글꼴 크기 색 변경</span>\n",
    " <p style=\"font-size: 20px\">폰트사이즈</p>\n",
    " <p style=\"font-style:italic\">기울인 폰트</p>\n",
    " 굵기는 font-weight:bold 하면된다."
   ],
   "metadata": {
    "collapsed": false
   },
   "id": "b34309ff0d35843"
  },
  {
   "cell_type": "markdown",
   "source": [
    "## a_tensor_initialization.py"
   ],
   "metadata": {
    "collapsed": false
   },
   "id": "d7e713e525df57ef"
  },
  {
   "cell_type": "code",
   "execution_count": 2,
   "outputs": [],
   "source": [
    "import torch"
   ],
   "metadata": {
    "collapsed": false,
    "ExecuteTime": {
     "end_time": "2023-09-17T07:37:32.411149100Z",
     "start_time": "2023-09-17T07:37:30.262393300Z"
    }
   },
   "id": "43f8f21bb6b68936"
  },
  {
   "cell_type": "markdown",
   "source": [
    "##### torch.Tensor class & torch.tensor function\n",
    "> default tensor type of torch.Tensor : float32 <br>\n",
    "> default tensor type of torch.tensor : int64"
   ],
   "metadata": {
    "collapsed": false
   },
   "id": "6cbad6344ea9544d"
  },
  {
   "cell_type": "markdown",
   "source": [
    "#### troch.Tensor\n",
    "- 아래는 torch.Tensor 클래스로 텐서를 만드는 코드이다."
   ],
   "metadata": {
    "collapsed": false
   },
   "id": "5fb4191e634506ce"
  },
  {
   "cell_type": "code",
   "execution_count": 5,
   "outputs": [
    {
     "name": "stdout",
     "output_type": "stream",
     "text": [
      "torch.float32\n",
      "cpu\n",
      "False\n",
      "torch.Size([3])\n",
      "torch.Size([3])\n"
     ]
    }
   ],
   "source": [
    "# torch.Tensor class\n",
    "t1 = torch.Tensor([1, 2, 3], device='cpu')\n",
    "print(t1.dtype)   # >>> torch.float32\n",
    "print(t1.device)  # >>> cpu\n",
    "print(t1.requires_grad)  # >>> False\n",
    "print(t1.size())  # torch.Size([3])\n",
    "print(t1.shape)   # torch.Size([3])\n"
   ],
   "metadata": {
    "collapsed": false,
    "ExecuteTime": {
     "end_time": "2023-09-17T07:37:37.974615Z",
     "start_time": "2023-09-17T07:37:37.965716300Z"
    }
   },
   "id": "3aeb264e9fc05469"
  },
  {
   "cell_type": "markdown",
   "source": [
    "- 모든 tensor는 device, dtype, shape, required_grad 요소를 가지고 있다.\n",
    "- 위 결과는 이 요소들을 모두 확인하는 코드이다."
   ],
   "metadata": {
    "collapsed": false
   },
   "id": "99fe14ccf1cbf5ab"
  },
  {
   "cell_type": "code",
   "execution_count": 6,
   "outputs": [],
   "source": [
    "# if you have gpu device\n",
    "# t1_cuda = t1.to(torch.device('cuda'))\n",
    "# or you can use shorthand\n",
    "# t1_cuda = t1.cuda()\n",
    "t1_cpu = t1.cpu()"
   ],
   "metadata": {
    "collapsed": false,
    "ExecuteTime": {
     "end_time": "2023-09-17T07:37:46.131808Z",
     "start_time": "2023-09-17T07:37:46.106311600Z"
    }
   },
   "id": "f46580da795eeafc"
  },
  {
   "cell_type": "markdown",
   "source": [
    "- 위의 주석은 텐서의 디바이스를 gpu로 바꾸는 코드다."
   ],
   "metadata": {
    "collapsed": false
   },
   "id": "e481654ca288fbe0"
  },
  {
   "cell_type": "markdown",
   "source": [
    "##### torch.tensor\n",
    "- 아래는 torch.tensor 을 이용해 텐서를 만드는 코드이다. "
   ],
   "metadata": {
    "collapsed": false
   },
   "id": "dbb0e986a09e19e0"
  },
  {
   "cell_type": "code",
   "execution_count": 7,
   "outputs": [
    {
     "name": "stdout",
     "output_type": "stream",
     "text": [
      "torch.int64\n",
      "cpu\n",
      "False\n",
      "torch.Size([3])\n",
      "torch.Size([3])\n"
     ]
    }
   ],
   "source": [
    "# torch.tensor function\n",
    "t2 = torch.tensor([1, 2, 3], device='cpu')\n",
    "print(t2.dtype)  # >>> torch.int64\n",
    "print(t2.device)  # >>> cpu\n",
    "print(t2.requires_grad)  # >>> False\n",
    "print(t2.size())  # torch.Size([3])\n",
    "print(t2.shape)  # torch.Size([3])\n",
    "\n",
    "# if you have gpu device\n",
    "# t2_cuda = t2.to(torch.device('cuda'))\n",
    "# or you can use shorthand\n",
    "# t2_cuda = t2.cuda()\n",
    "t2_cpu = t2.cpu()"
   ],
   "metadata": {
    "collapsed": false,
    "ExecuteTime": {
     "end_time": "2023-09-17T07:37:55.329991500Z",
     "start_time": "2023-09-17T07:37:55.289916200Z"
    }
   },
   "id": "415d7dc7b8630028"
  },
  {
   "cell_type": "markdown",
   "source": [
    "- dtype을 보면 torch.Tensor와 다르게 int64임을 확인할 수 있다."
   ],
   "metadata": {
    "collapsed": false
   },
   "id": "9fa32908f6cb5409"
  },
  {
   "cell_type": "markdown",
   "source": [
    "#### Size & ndims of Tensor"
   ],
   "metadata": {
    "collapsed": false
   },
   "id": "2104840199b64ae3"
  },
  {
   "cell_type": "code",
   "execution_count": 8,
   "outputs": [
    {
     "name": "stdout",
     "output_type": "stream",
     "text": [
      "torch.Size([]) 0\n",
      "torch.Size([1]) 1\n",
      "torch.Size([5]) 1\n",
      "torch.Size([5, 1]) 2\n"
     ]
    }
   ],
   "source": [
    "a1 = torch.tensor(1)\t\t\t     # shape: torch.Size([]), ndims(=rank): 0\n",
    "print(a1.shape, a1.ndim)\n",
    "\n",
    "a2 = torch.tensor([1])\t\t  \t     # shape: torch.Size([1]), ndims(=rank): 1\n",
    "print(a2.shape, a2.ndim)\n",
    "\n",
    "a3 = torch.tensor([1, 2, 3, 4, 5])   # shape: torch.Size([5]), ndims(=rank): 1\n",
    "print(a3.shape, a3.ndim)\n",
    "\n",
    "a4 = torch.tensor([[1], [2], [3], [4], [5]])   # shape: torch.Size([5, 1]), ndims(=rank): 2\n",
    "print(a4.shape, a4.ndim)"
   ],
   "metadata": {
    "collapsed": false,
    "ExecuteTime": {
     "end_time": "2023-09-17T07:38:01.508160200Z",
     "start_time": "2023-09-17T07:38:01.494244200Z"
    }
   },
   "id": "9fda13a7148315b3"
  },
  {
   "cell_type": "markdown",
   "source": [
    "- 1과 [1]은 다르다. 대괄호 [] 하나가 한 차원이라고 생각하면 된다.\n",
    "- 따라서 a2과 a3 모두 1차원이다.\n",
    "> <p style=\"font-style:italic\"> tip . ndim을 세는 법은 연속적으로 [가 나타나는 횟수를 세면 된다. </p> \n",
    "\n",
    "- shape은 각 차원의 요소들의 개수이다. 가장 바깥쪽 괄호의 차원부터 적는다.\n",
    "- a4의 shape은 가장 바깥쪽 [] 안의 요소가 5, 그 다음 [] 안의 요소는 1개 이므로 [5,1]이 된다. \n",
    "> <p style=\"font-style:italic\"> tip . shape 찾는 방법은 가장 작게 있는 요소들 부터 수를 세고 반대로 적으면 된다. (안쪽 괄호부터 찾는 것이 더 편할 경우) </p>"
   ],
   "metadata": {
    "collapsed": false
   },
   "id": "af866e0a61171459"
  },
  {
   "cell_type": "code",
   "execution_count": 9,
   "outputs": [
    {
     "name": "stdout",
     "output_type": "stream",
     "text": [
      "torch.Size([3, 2]) 2\n"
     ]
    }
   ],
   "source": [
    "a5 = torch.tensor([                 # shape: torch.Size([3, 2]), ndims(=rank): 2\n",
    "    [1, 2],\n",
    "    [3, 4],\n",
    "    [5, 6]\n",
    "])\n",
    "print(a5.shape, a5.ndim)"
   ],
   "metadata": {
    "collapsed": false,
    "ExecuteTime": {
     "end_time": "2023-09-17T07:38:03.304131900Z",
     "start_time": "2023-09-17T07:38:03.289532900Z"
    }
   },
   "id": "2b7111ccdf0dfbfe"
  },
  {
   "cell_type": "markdown",
   "source": [
    "- 위 텐서는 [ [], [], [], ] 으로 이루어져 있으므로 2차원이다.\n",
    "- 가장 바깥쪽 [] 안의 요소는 3개, 그 다음 [] 안의 요소는 2개 이므로 이 텐서의 shape은 [3,2]이다."
   ],
   "metadata": {
    "collapsed": false
   },
   "id": "bf2733bb4c42ec70"
  },
  {
   "cell_type": "code",
   "execution_count": 10,
   "outputs": [
    {
     "name": "stdout",
     "output_type": "stream",
     "text": [
      "torch.Size([3, 2, 1]) 3\n"
     ]
    }
   ],
   "source": [
    "a6 = torch.tensor([                 # shape: torch.Size([3, 2, 1]), ndims(=rank): 3\n",
    "    [[1], [2]],\n",
    "    [[3], [4]],\n",
    "    [[5], [6]]\n",
    "])\n",
    "print(a6.shape, a6.ndim)"
   ],
   "metadata": {
    "collapsed": false,
    "ExecuteTime": {
     "end_time": "2023-09-17T07:38:04.665340100Z",
     "start_time": "2023-09-17T07:38:04.658848900Z"
    }
   },
   "id": "1508360f6a2c06d"
  },
  {
   "cell_type": "markdown",
   "source": [
    "- 위 텐서는 [ [[] []], [[] []], [[] []], ] 으로 이루어져 있으므로 3차원이다.\n",
    "- 가장 바깥쪽 [] 안의 요소는 3개, 그 다음 [] 안의 요소는 2개, 그 다음 [] 안의 요소는 1개 이므로 이 텐서의 shape은 [3,2,1]이다."
   ],
   "metadata": {
    "collapsed": false
   },
   "id": "a0b18875832ff066"
  },
  {
   "cell_type": "code",
   "execution_count": 11,
   "outputs": [
    {
     "name": "stdout",
     "output_type": "stream",
     "text": [
      "torch.Size([3, 1, 2, 1]) 4\n"
     ]
    }
   ],
   "source": [
    "a7 = torch.tensor([                 # shape: torch.Size([3, 1, 2, 1]), ndims(=rank): 4\n",
    "    [[[1], [2]]],\n",
    "    [[[3], [4]]],\n",
    "    [[[5], [6]]]\n",
    "])\n",
    "print(a7.shape, a7.ndim)"
   ],
   "metadata": {
    "collapsed": false,
    "ExecuteTime": {
     "end_time": "2023-09-17T07:38:05.974890700Z",
     "start_time": "2023-09-17T07:38:05.966864700Z"
    }
   },
   "id": "eff83814f8d2cb54"
  },
  {
   "cell_type": "markdown",
   "source": [
    "- 위 텐서는 연속으로 [가 4번 나오므로 4차원이다. \n",
    "- 가장 안쪽 괄호부터 차원의 요소를 세면 1, 2, 1, 3 이다. 따라서 shape 은 [3,1,2,1]이다."
   ],
   "metadata": {
    "collapsed": false
   },
   "id": "ba89f4906a40e195"
  },
  {
   "cell_type": "code",
   "execution_count": 12,
   "outputs": [
    {
     "name": "stdout",
     "output_type": "stream",
     "text": [
      "torch.Size([3, 1, 2, 3]) 4\n"
     ]
    }
   ],
   "source": [
    "a8 = torch.tensor([                 # shape: torch.Size([3, 1, 2, 3]), ndims(=rank): 4\n",
    "    [[[1, 2, 3], [2, 3, 4]]],\n",
    "    [[[3, 1, 1], [4, 4, 5]]],\n",
    "    [[[5, 6, 2], [6, 3, 1]]]\n",
    "])\n",
    "print(a8.shape, a8.ndim)"
   ],
   "metadata": {
    "collapsed": false,
    "ExecuteTime": {
     "end_time": "2023-09-17T07:38:07.206637400Z",
     "start_time": "2023-09-17T07:38:07.191044600Z"
    }
   },
   "id": "d98ad6343cff7dfb"
  },
  {
   "cell_type": "markdown",
   "source": [
    "- 위 텐서는 연속으로 [가 4번 나오므로 4차원이다. \n",
    "- 가장 안쪽 괄호부터 차원의 요소를 세면 3, 2, 1, 3 이다. 따라서 shape 은 [3,1,2,3]이다."
   ],
   "metadata": {
    "collapsed": false
   },
   "id": "1b5b16cc1460357b"
  },
  {
   "cell_type": "code",
   "execution_count": 13,
   "outputs": [
    {
     "name": "stdout",
     "output_type": "stream",
     "text": [
      "torch.Size([3, 1, 2, 3, 1]) 5\n"
     ]
    }
   ],
   "source": [
    "a9 = torch.tensor([                 # shape: torch.Size([3, 1, 2, 3, 1]), ndims(=rank): 5\n",
    "    [[[[1], [2], [3]], [[2], [3], [4]]]],\n",
    "    [[[[3], [1], [1]], [[4], [4], [5]]]],\n",
    "    [[[[5], [6], [2]], [[6], [3], [1]]]]\n",
    "])\n",
    "print(a9.shape, a9.ndim)"
   ],
   "metadata": {
    "collapsed": false,
    "ExecuteTime": {
     "end_time": "2023-09-17T07:38:09.416634800Z",
     "start_time": "2023-09-17T07:38:09.372125200Z"
    }
   },
   "id": "28eef98b687b97bf"
  },
  {
   "cell_type": "markdown",
   "source": [
    "- 위 텐서는 연속으로 [가 5번 나오므로 ndims = 5 다.\n",
    "- 안쪽 괄호부터 요소를 세면 1,3,2,1,3 이므로 shape은 [3,1,2,3,1]이다."
   ],
   "metadata": {
    "collapsed": false
   },
   "id": "79c320462ae10128"
  },
  {
   "cell_type": "code",
   "execution_count": 14,
   "outputs": [
    {
     "name": "stdout",
     "output_type": "stream",
     "text": [
      "torch.Size([4, 5]) 2\n"
     ]
    }
   ],
   "source": [
    "a10 = torch.tensor([                 # shape: torch.Size([4, 5]), ndims(=rank): 2\n",
    "    [1, 2, 3, 4, 5],\n",
    "    [1, 2, 3, 4, 5],\n",
    "    [1, 2, 3, 4, 5],\n",
    "    [1, 2, 3, 4, 5],\n",
    "])\n",
    "print(a10.shape, a10.ndim)"
   ],
   "metadata": {
    "collapsed": false,
    "ExecuteTime": {
     "end_time": "2023-09-17T07:39:22.157162900Z",
     "start_time": "2023-09-17T07:39:22.128497800Z"
    }
   },
   "id": "20292798fade690d"
  },
  {
   "cell_type": "markdown",
   "source": [
    "- 위 텐서는 연속으로 [가 두번 나오므로 ndims=2이다. \n",
    "- 안쪽 괄호부터 요소는 5, 4 씩 있으므로 shape 은 [4,5]이다."
   ],
   "metadata": {
    "collapsed": false
   },
   "id": "bbc80a72c6b7f8f2"
  },
  {
   "cell_type": "code",
   "execution_count": 15,
   "outputs": [
    {
     "ename": "ValueError",
     "evalue": "expected sequence of length 3 at dim 3 (got 2)",
     "output_type": "error",
     "traceback": [
      "\u001B[1;31m---------------------------------------------------------------------------\u001B[0m",
      "\u001B[1;31mValueError\u001B[0m                                Traceback (most recent call last)",
      "Cell \u001B[1;32mIn[15], line 1\u001B[0m\n\u001B[1;32m----> 1\u001B[0m a11 \u001B[38;5;241m=\u001B[39m \u001B[43mtorch\u001B[49m\u001B[38;5;241;43m.\u001B[39;49m\u001B[43mtensor\u001B[49m\u001B[43m(\u001B[49m\u001B[43m[\u001B[49m\u001B[43m                 \u001B[49m\u001B[38;5;66;43;03m# ValueError: expected sequence of length 3 at dim 3 (got 2)\u001B[39;49;00m\n\u001B[0;32m      2\u001B[0m \u001B[43m    \u001B[49m\u001B[43m[\u001B[49m\u001B[43m[\u001B[49m\u001B[43m[\u001B[49m\u001B[38;5;241;43m1\u001B[39;49m\u001B[43m,\u001B[49m\u001B[43m \u001B[49m\u001B[38;5;241;43m2\u001B[39;49m\u001B[43m,\u001B[49m\u001B[43m \u001B[49m\u001B[38;5;241;43m3\u001B[39;49m\u001B[43m]\u001B[49m\u001B[43m,\u001B[49m\u001B[43m \u001B[49m\u001B[43m[\u001B[49m\u001B[38;5;241;43m4\u001B[39;49m\u001B[43m,\u001B[49m\u001B[43m \u001B[49m\u001B[38;5;241;43m5\u001B[39;49m\u001B[43m]\u001B[49m\u001B[43m]\u001B[49m\u001B[43m]\u001B[49m\u001B[43m,\u001B[49m\n\u001B[0;32m      3\u001B[0m \u001B[43m    \u001B[49m\u001B[43m[\u001B[49m\u001B[43m[\u001B[49m\u001B[43m[\u001B[49m\u001B[38;5;241;43m1\u001B[39;49m\u001B[43m,\u001B[49m\u001B[43m \u001B[49m\u001B[38;5;241;43m2\u001B[39;49m\u001B[43m,\u001B[49m\u001B[43m \u001B[49m\u001B[38;5;241;43m3\u001B[39;49m\u001B[43m]\u001B[49m\u001B[43m,\u001B[49m\u001B[43m \u001B[49m\u001B[43m[\u001B[49m\u001B[38;5;241;43m4\u001B[39;49m\u001B[43m,\u001B[49m\u001B[43m \u001B[49m\u001B[38;5;241;43m5\u001B[39;49m\u001B[43m]\u001B[49m\u001B[43m]\u001B[49m\u001B[43m]\u001B[49m\u001B[43m,\u001B[49m\n\u001B[0;32m      4\u001B[0m \u001B[43m    \u001B[49m\u001B[43m[\u001B[49m\u001B[43m[\u001B[49m\u001B[43m[\u001B[49m\u001B[38;5;241;43m1\u001B[39;49m\u001B[43m,\u001B[49m\u001B[43m \u001B[49m\u001B[38;5;241;43m2\u001B[39;49m\u001B[43m,\u001B[49m\u001B[43m \u001B[49m\u001B[38;5;241;43m3\u001B[39;49m\u001B[43m]\u001B[49m\u001B[43m,\u001B[49m\u001B[43m \u001B[49m\u001B[43m[\u001B[49m\u001B[38;5;241;43m4\u001B[39;49m\u001B[43m,\u001B[49m\u001B[43m \u001B[49m\u001B[38;5;241;43m5\u001B[39;49m\u001B[43m]\u001B[49m\u001B[43m]\u001B[49m\u001B[43m]\u001B[49m\u001B[43m,\u001B[49m\n\u001B[0;32m      5\u001B[0m \u001B[43m    \u001B[49m\u001B[43m[\u001B[49m\u001B[43m[\u001B[49m\u001B[43m[\u001B[49m\u001B[38;5;241;43m1\u001B[39;49m\u001B[43m,\u001B[49m\u001B[43m \u001B[49m\u001B[38;5;241;43m2\u001B[39;49m\u001B[43m,\u001B[49m\u001B[43m \u001B[49m\u001B[38;5;241;43m3\u001B[39;49m\u001B[43m]\u001B[49m\u001B[43m,\u001B[49m\u001B[43m \u001B[49m\u001B[43m[\u001B[49m\u001B[38;5;241;43m4\u001B[39;49m\u001B[43m,\u001B[49m\u001B[43m \u001B[49m\u001B[38;5;241;43m5\u001B[39;49m\u001B[43m]\u001B[49m\u001B[43m]\u001B[49m\u001B[43m]\u001B[49m\u001B[43m,\u001B[49m\n\u001B[0;32m      6\u001B[0m \u001B[43m]\u001B[49m\u001B[43m)\u001B[49m\n",
      "\u001B[1;31mValueError\u001B[0m: expected sequence of length 3 at dim 3 (got 2)"
     ]
    }
   ],
   "source": [
    "a11 = torch.tensor([                 # ValueError: expected sequence of length 3 at dim 3 (got 2)\n",
    "    [[[1, 2, 3], [4, 5]]],\n",
    "    [[[1, 2, 3], [4, 5]]],\n",
    "    [[[1, 2, 3], [4, 5]]],\n",
    "    [[[1, 2, 3], [4, 5]]],\n",
    "])"
   ],
   "metadata": {
    "collapsed": false,
    "ExecuteTime": {
     "end_time": "2023-09-17T07:40:45.309585300Z",
     "start_time": "2023-09-17T07:40:45.056305600Z"
    }
   },
   "id": "bd08bcb5c9e4513f"
  },
  {
   "cell_type": "markdown",
   "source": [
    "- 위 텐서를 실행하면 ValueError: expected sequence of length 3 at dim 3 (got 2) 에러가 발생한다. \n",
    "- torch는 균일한 현태의 텐서만을 생성할 수 있다. 즉, 리스트안의 리스트 길이가 일정해야한다. 그러나 예시의 리스트는 불규칙한 형태의 다차원 배열이기 때문에 에러가 발생한다. \n",
    "---"
   ],
   "metadata": {
    "collapsed": false
   },
   "id": "907e145d8089af69"
  },
  {
   "cell_type": "markdown",
   "source": [
    "## b_tensor_initialization_copy.py"
   ],
   "metadata": {
    "collapsed": false
   },
   "id": "61b9f4cbba2a0dd4"
  },
  {
   "cell_type": "code",
   "execution_count": null,
   "outputs": [],
   "source": [],
   "metadata": {
    "collapsed": false
   },
   "id": "6f32bbe4a1dd1beb"
  }
 ],
 "metadata": {
  "kernelspec": {
   "display_name": "Python 3",
   "language": "python",
   "name": "python3"
  },
  "language_info": {
   "codemirror_mode": {
    "name": "ipython",
    "version": 2
   },
   "file_extension": ".py",
   "mimetype": "text/x-python",
   "name": "python",
   "nbconvert_exporter": "python",
   "pygments_lexer": "ipython2",
   "version": "2.7.6"
  }
 },
 "nbformat": 4,
 "nbformat_minor": 5
}
